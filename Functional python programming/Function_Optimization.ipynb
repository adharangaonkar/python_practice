{
  "nbformat": 4,
  "nbformat_minor": 0,
  "metadata": {
    "colab": {
      "name": "Function Optimization.ipynb",
      "provenance": []
    },
    "kernelspec": {
      "name": "python3",
      "display_name": "Python 3"
    }
  },
  "cells": [
    {
      "cell_type": "markdown",
      "metadata": {
        "id": "7Fg4wP8Juw2C",
        "colab_type": "text"
      },
      "source": [
        "Curve fitting: temperature as a function of month of the year\n",
        "The temperature extremes in Alaska for each month, starting in January, are given by (in degrees Celcius):\n",
        "\n",
        "max: 17, 19, 21, 28, 33, 38, 37, 37, 31, 23, 19, 18\n",
        "\n",
        "min: -62, -59, -56, -46, -32, -18, -9, -13, -25, -46, -52, -58\n",
        "\n",
        "Plot these temperature extremes.\n",
        "Define a function that can describe min and max temperatures. Hint: this function has to have a period of 1 year. Hint: include a time offset.\n",
        "Fit this function to the data with scipy.optimize.curve_fit().\n",
        "Plot the result. Is the fit reasonable? If not, why?\n",
        "Is the time offset for min and max temperatures the same within the fit accuracy?"
      ]
    },
    {
      "cell_type": "markdown",
      "metadata": {
        "id": "e1-eP6_LzZs7",
        "colab_type": "text"
      },
      "source": [
        ""
      ]
    },
    {
      "cell_type": "code",
      "metadata": {
        "id": "nC4Vh9TYvBOw",
        "colab_type": "code",
        "colab": {}
      },
      "source": [
        "import numpy as np\n",
        "import pandas as pd\n",
        "import matplotlib.pyplot as plt\n",
        "%matplotlib inline"
      ],
      "execution_count": 0,
      "outputs": []
    },
    {
      "cell_type": "code",
      "metadata": {
        "id": "Ouu6qJpAuyHz",
        "colab_type": "code",
        "colab": {
          "base_uri": "https://localhost:8080/",
          "height": 34
        },
        "outputId": "0b1723ee-44b5-4e78-dcef-6746d9a3cdd4"
      },
      "source": [
        "max = [17, 19, 21, 28, 33, 38, 37, 37, 31, 23, 19, 18]\n",
        "max = np.array(max)\n",
        "max"
      ],
      "execution_count": 4,
      "outputs": [
        {
          "output_type": "execute_result",
          "data": {
            "text/plain": [
              "array([17, 19, 21, 28, 33, 38, 37, 37, 31, 23, 19, 18])"
            ]
          },
          "metadata": {
            "tags": []
          },
          "execution_count": 4
        }
      ]
    },
    {
      "cell_type": "code",
      "metadata": {
        "id": "Pac6L13EvAAv",
        "colab_type": "code",
        "colab": {
          "base_uri": "https://localhost:8080/",
          "height": 34
        },
        "outputId": "77656e01-f9af-41ca-baa1-848281411a4f"
      },
      "source": [
        "min = [ -62, -59, -56, -46, -32, -18, -9, -13, -25, -46, -52, -58]\n",
        "min = np.array(min)\n",
        "min"
      ],
      "execution_count": 6,
      "outputs": [
        {
          "output_type": "execute_result",
          "data": {
            "text/plain": [
              "array([-62, -59, -56, -46, -32, -18,  -9, -13, -25, -46, -52, -58])"
            ]
          },
          "metadata": {
            "tags": []
          },
          "execution_count": 6
        }
      ]
    },
    {
      "cell_type": "code",
      "metadata": {
        "id": "kxL3BfUGyXcG",
        "colab_type": "code",
        "colab": {
          "base_uri": "https://localhost:8080/",
          "height": 34
        },
        "outputId": "e14c6362-8dab-41e9-bad2-6653043b25ed"
      },
      "source": [
        "months = np.arange(1,13)\n",
        "months"
      ],
      "execution_count": 21,
      "outputs": [
        {
          "output_type": "execute_result",
          "data": {
            "text/plain": [
              "array([ 1,  2,  3,  4,  5,  6,  7,  8,  9, 10, 11, 12])"
            ]
          },
          "metadata": {
            "tags": []
          },
          "execution_count": 21
        }
      ]
    },
    {
      "cell_type": "code",
      "metadata": {
        "id": "zyMte0SEvSYm",
        "colab_type": "code",
        "colab": {
          "base_uri": "https://localhost:8080/",
          "height": 428
        },
        "outputId": "51cfec1d-5aa8-47e3-cfbd-f081b10e5b14"
      },
      "source": [
        "plt.figure(figsize=(10,7))\n",
        "plt.plot(months,max,'o', ms=8, label='max', color = 'red')\n",
        "plt.plot(months, min,'o', ms=8, label='min', color = 'blue')\n",
        "plt.grid(color='black', linestyle='-', linewidth=0.2)\n",
        "plt.legend()\n",
        "plt.show()"
      ],
      "execution_count": 24,
      "outputs": [
        {
          "output_type": "display_data",
          "data": {
            "image/png": "[encoded data removed]",
            "text/plain": [
              "<Figure size 720x504 with 1 Axes>"
            ]
          },
          "metadata": {
            "tags": [],
            "needs_background": "light"
          }
        }
      ]
    },
    {
      "cell_type": "code",
      "metadata": {
        "id": "ii0k-WIGvism",
        "colab_type": "code",
        "colab": {}
      },
      "source": [
        "from scipy import optimize\n",
        "def yearly_temps(times, avg, ampl, time_offset):\n",
        "    return (avg\n",
        "            + ampl * np.cos((times + time_offset) * 2 * np.pi / times.max()))\n",
        "res_max, cov_max = optimize.curve_fit(yearly_temps, months,\n",
        "                                      max, [20, 10, 0])\n",
        "res_min, cov_min = optimize.curve_fit(yearly_temps, months,\n",
        "                                      min, [-40, 20, 0])    "
      ],
      "execution_count": 0,
      "outputs": []
    },
    {
      "cell_type": "code",
      "metadata": {
        "id": "EBRTjqwvzOKD",
        "colab_type": "code",
        "colab": {
          "base_uri": "https://localhost:8080/",
          "height": 1000
        },
        "outputId": "94099d58-1e48-494d-cd9e-bd0ad9c07ef5"
      },
      "source": [
        "days"
      ],
      "execution_count": 28,
      "outputs": [
        {
          "output_type": "execute_result",
          "data": {
            "text/plain": [
              "array([ 0.        ,  0.03296703,  0.06593407,  0.0989011 ,  0.13186813,\n",
              "        0.16483516,  0.1978022 ,  0.23076923,  0.26373626,  0.2967033 ,\n",
              "        0.32967033,  0.36263736,  0.3956044 ,  0.42857143,  0.46153846,\n",
              "        0.49450549,  0.52747253,  0.56043956,  0.59340659,  0.62637363,\n",
              "        0.65934066,  0.69230769,  0.72527473,  0.75824176,  0.79120879,\n",
              "        0.82417582,  0.85714286,  0.89010989,  0.92307692,  0.95604396,\n",
              "        0.98901099,  1.02197802,  1.05494505,  1.08791209,  1.12087912,\n",
              "        1.15384615,  1.18681319,  1.21978022,  1.25274725,  1.28571429,\n",
              "        1.31868132,  1.35164835,  1.38461538,  1.41758242,  1.45054945,\n",
              "        1.48351648,  1.51648352,  1.54945055,  1.58241758,  1.61538462,\n",
              "        1.64835165,  1.68131868,  1.71428571,  1.74725275,  1.78021978,\n",
              "        1.81318681,  1.84615385,  1.87912088,  1.91208791,  1.94505495,\n",
              "        1.97802198,  2.01098901,  2.04395604,  2.07692308,  2.10989011,\n",
              "        2.14285714,  2.17582418,  2.20879121,  2.24175824,  2.27472527,\n",
              "        2.30769231,  2.34065934,  2.37362637,  2.40659341,  2.43956044,\n",
              "        2.47252747,  2.50549451,  2.53846154,  2.57142857,  2.6043956 ,\n",
              "        2.63736264,  2.67032967,  2.7032967 ,  2.73626374,  2.76923077,\n",
              "        2.8021978 ,  2.83516484,  2.86813187,  2.9010989 ,  2.93406593,\n",
              "        2.96703297,  3.        ,  3.03296703,  3.06593407,  3.0989011 ,\n",
              "        3.13186813,  3.16483516,  3.1978022 ,  3.23076923,  3.26373626,\n",
              "        3.2967033 ,  3.32967033,  3.36263736,  3.3956044 ,  3.42857143,\n",
              "        3.46153846,  3.49450549,  3.52747253,  3.56043956,  3.59340659,\n",
              "        3.62637363,  3.65934066,  3.69230769,  3.72527473,  3.75824176,\n",
              "        3.79120879,  3.82417582,  3.85714286,  3.89010989,  3.92307692,\n",
              "        3.95604396,  3.98901099,  4.02197802,  4.05494505,  4.08791209,\n",
              "        4.12087912,  4.15384615,  4.18681319,  4.21978022,  4.25274725,\n",
              "        4.28571429,  4.31868132,  4.35164835,  4.38461538,  4.41758242,\n",
              "        4.45054945,  4.48351648,  4.51648352,  4.54945055,  4.58241758,\n",
              "        4.61538462,  4.64835165,  4.68131868,  4.71428571,  4.74725275,\n",
              "        4.78021978,  4.81318681,  4.84615385,  4.87912088,  4.91208791,\n",
              "        4.94505495,  4.97802198,  5.01098901,  5.04395604,  5.07692308,\n",
              "        5.10989011,  5.14285714,  5.17582418,  5.20879121,  5.24175824,\n",
              "        5.27472527,  5.30769231,  5.34065934,  5.37362637,  5.40659341,\n",
              "        5.43956044,  5.47252747,  5.50549451,  5.53846154,  5.57142857,\n",
              "        5.6043956 ,  5.63736264,  5.67032967,  5.7032967 ,  5.73626374,\n",
              "        5.76923077,  5.8021978 ,  5.83516484,  5.86813187,  5.9010989 ,\n",
              "        5.93406593,  5.96703297,  6.        ,  6.03296703,  6.06593407,\n",
              "        6.0989011 ,  6.13186813,  6.16483516,  6.1978022 ,  6.23076923,\n",
              "        6.26373626,  6.2967033 ,  6.32967033,  6.36263736,  6.3956044 ,\n",
              "        6.42857143,  6.46153846,  6.49450549,  6.52747253,  6.56043956,\n",
              "        6.59340659,  6.62637363,  6.65934066,  6.69230769,  6.72527473,\n",
              "        6.75824176,  6.79120879,  6.82417582,  6.85714286,  6.89010989,\n",
              "        6.92307692,  6.95604396,  6.98901099,  7.02197802,  7.05494505,\n",
              "        7.08791209,  7.12087912,  7.15384615,  7.18681319,  7.21978022,\n",
              "        7.25274725,  7.28571429,  7.31868132,  7.35164835,  7.38461538,\n",
              "        7.41758242,  7.45054945,  7.48351648,  7.51648352,  7.54945055,\n",
              "        7.58241758,  7.61538462,  7.64835165,  7.68131868,  7.71428571,\n",
              "        7.74725275,  7.78021978,  7.81318681,  7.84615385,  7.87912088,\n",
              "        7.91208791,  7.94505495,  7.97802198,  8.01098901,  8.04395604,\n",
              "        8.07692308,  8.10989011,  8.14285714,  8.17582418,  8.20879121,\n",
              "        8.24175824,  8.27472527,  8.30769231,  8.34065934,  8.37362637,\n",
              "        8.40659341,  8.43956044,  8.47252747,  8.50549451,  8.53846154,\n",
              "        8.57142857,  8.6043956 ,  8.63736264,  8.67032967,  8.7032967 ,\n",
              "        8.73626374,  8.76923077,  8.8021978 ,  8.83516484,  8.86813187,\n",
              "        8.9010989 ,  8.93406593,  8.96703297,  9.        ,  9.03296703,\n",
              "        9.06593407,  9.0989011 ,  9.13186813,  9.16483516,  9.1978022 ,\n",
              "        9.23076923,  9.26373626,  9.2967033 ,  9.32967033,  9.36263736,\n",
              "        9.3956044 ,  9.42857143,  9.46153846,  9.49450549,  9.52747253,\n",
              "        9.56043956,  9.59340659,  9.62637363,  9.65934066,  9.69230769,\n",
              "        9.72527473,  9.75824176,  9.79120879,  9.82417582,  9.85714286,\n",
              "        9.89010989,  9.92307692,  9.95604396,  9.98901099, 10.02197802,\n",
              "       10.05494505, 10.08791209, 10.12087912, 10.15384615, 10.18681319,\n",
              "       10.21978022, 10.25274725, 10.28571429, 10.31868132, 10.35164835,\n",
              "       10.38461538, 10.41758242, 10.45054945, 10.48351648, 10.51648352,\n",
              "       10.54945055, 10.58241758, 10.61538462, 10.64835165, 10.68131868,\n",
              "       10.71428571, 10.74725275, 10.78021978, 10.81318681, 10.84615385,\n",
              "       10.87912088, 10.91208791, 10.94505495, 10.97802198, 11.01098901,\n",
              "       11.04395604, 11.07692308, 11.10989011, 11.14285714, 11.17582418,\n",
              "       11.20879121, 11.24175824, 11.27472527, 11.30769231, 11.34065934,\n",
              "       11.37362637, 11.40659341, 11.43956044, 11.47252747, 11.50549451,\n",
              "       11.53846154, 11.57142857, 11.6043956 , 11.63736264, 11.67032967,\n",
              "       11.7032967 , 11.73626374, 11.76923077, 11.8021978 , 11.83516484,\n",
              "       11.86813187, 11.9010989 , 11.93406593, 11.96703297, 12.        ])"
            ]
          },
          "metadata": {
            "tags": []
          },
          "execution_count": 28
        }
      ]
    },
    {
      "cell_type": "code",
      "metadata": {
        "id": "coidz6ayyuHH",
        "colab_type": "code",
        "colab": {
          "base_uri": "https://localhost:8080/",
          "height": 442
        },
        "outputId": "cb0586bd-ea8b-4d52-cf64-21987252d216"
      },
      "source": [
        "days = np.linspace(0, 12, num=365)\n",
        "plt.figure(figsize=(10,7))\n",
        "plt.plot(months, max, 'ro')\n",
        "plt.plot(days, yearly_temps(days, *res_max), 'r-')\n",
        "plt.plot(months, min, 'bo')\n",
        "plt.plot(days, yearly_temps(days, *res_min), 'b-')\n",
        "plt.xlabel('Month')\n",
        "plt.ylabel('Temperature ($^\\circ$C)')\n",
        "\n",
        "plt.show()"
      ],
      "execution_count": 27,
      "outputs": [
        {
          "output_type": "display_data",
          "data": {
            "image/png": "[encoded data removed]",
            "text/plain": [
              "<Figure size 720x504 with 1 Axes>"
            ]
          },
          "metadata": {
            "tags": [],
            "needs_background": "light"
          }
        }
      ]
    },
    {
      "cell_type": "code",
      "metadata": {
        "id": "3yEDjKv6zIpQ",
        "colab_type": "code",
        "colab": {}
      },
      "source": [
        ""
      ],
      "execution_count": 0,
      "outputs": []
    }
  ]
}