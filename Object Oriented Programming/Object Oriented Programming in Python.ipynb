{
 "cells": [
  {
   "cell_type": "code",
   "execution_count": 63,
   "id": "28a6d358",
   "metadata": {},
   "outputs": [],
   "source": [
    "se1 = [\"Software Engineer\", \"Max\", 20, \"Junior\", 5000]\n",
    "se2 = [\"Software Engineer\", \"Lisa\", 25, \"Senior\", 7000]\n",
    "d1 = [\"Desginer\", \"Phillip\"]"
   ]
  },
  {
   "cell_type": "code",
   "execution_count": 27,
   "id": "1be35d4a",
   "metadata": {},
   "outputs": [],
   "source": [
    "class SoftwareEngineer:\n",
    "    # class attributes\n",
    "    alias_attr = \"Keyboard Manager\"\n",
    "    \n",
    "    def __init__(self, name, age, level, salary):\n",
    "        # instance attributes\n",
    "        self.name = name\n",
    "        self.age = age\n",
    "        self.level = level\n",
    "        self.salary = salary"
   ]
  },
  {
   "cell_type": "code",
   "execution_count": 44,
   "id": "19d9d931",
   "metadata": {},
   "outputs": [],
   "source": [
    "see1 = SoftwareEngineer(\"Max\", 20, \"Junior\", 5000)"
   ]
  },
  {
   "cell_type": "code",
   "execution_count": 45,
   "id": "4bdcaa18",
   "metadata": {},
   "outputs": [
    {
     "name": "stdout",
     "output_type": "stream",
     "text": [
      "Max 20\n"
     ]
    }
   ],
   "source": [
    "print(se1.name, se1.age)"
   ]
  },
  {
   "cell_type": "code",
   "execution_count": 46,
   "id": "fd14b93b",
   "metadata": {},
   "outputs": [
    {
     "name": "stdout",
     "output_type": "stream",
     "text": [
      "Keyboard Manager\n"
     ]
    }
   ],
   "source": [
    "print(SoftwareEngineer.alias_attr)"
   ]
  },
  {
   "cell_type": "code",
   "execution_count": 47,
   "id": "d4caa879",
   "metadata": {},
   "outputs": [
    {
     "name": "stdout",
     "output_type": "stream",
     "text": [
      "Keyboard Manager\n"
     ]
    }
   ],
   "source": [
    "print(se1.alias_attr)"
   ]
  },
  {
   "cell_type": "markdown",
   "id": "3037e0a9",
   "metadata": {},
   "source": [
    "## Using Functions"
   ]
  },
  {
   "cell_type": "code",
   "execution_count": 57,
   "id": "eb40cbe1",
   "metadata": {},
   "outputs": [],
   "source": [
    "def code(se):\n",
    "    print(f\"{se[1]} is writing a code\")"
   ]
  },
  {
   "cell_type": "code",
   "execution_count": 58,
   "id": "82896421",
   "metadata": {},
   "outputs": [
    {
     "name": "stdout",
     "output_type": "stream",
     "text": [
      "Max is writing a code\n"
     ]
    }
   ],
   "source": [
    "code(se1)"
   ]
  },
  {
   "cell_type": "code",
   "execution_count": 59,
   "id": "a9e2ce36",
   "metadata": {},
   "outputs": [
    {
     "name": "stdout",
     "output_type": "stream",
     "text": [
      "Phillip is writing a code\n"
     ]
    }
   ],
   "source": [
    "code(d1)"
   ]
  },
  {
   "cell_type": "markdown",
   "id": "f7253fc5",
   "metadata": {},
   "source": [
    "## Using the function inside the class"
   ]
  },
  {
   "cell_type": "code",
   "execution_count": 119,
   "id": "9aea0603",
   "metadata": {},
   "outputs": [],
   "source": [
    "class SoftwareEngineer:\n",
    "    # class attributes\n",
    "    alias_attr = \"Keyboard Manager\"\n",
    "    \n",
    "    def __init__(self, name, age, level, salary):\n",
    "        # instance attributes\n",
    "        self.name = name\n",
    "        self.age = age\n",
    "        self.level = level\n",
    "        self.salary = salary\n",
    "    def code(self):\n",
    "        print(f\"{self.name} is writing code\") \n",
    "    \n",
    "    def code_in_language(self, language):\n",
    "        print(f\"{self.name} is writing code in {language}\")\n",
    "    \n",
    "    def information(self):\n",
    "        information = f\"name = {self.name}, age = {self.age}, level = {self.level}\"\n",
    "        return information"
   ]
  },
  {
   "cell_type": "code",
   "execution_count": 127,
   "id": "4f846f06",
   "metadata": {},
   "outputs": [],
   "source": [
    "se1 = SoftwareEngineer(\"Max\", 20, \"Junior\", 5000)\n",
    "se2 = SoftwareEngineer(\"Lisa\", 25, \"Senior\", 7000)"
   ]
  },
  {
   "cell_type": "code",
   "execution_count": 121,
   "id": "49f05002",
   "metadata": {},
   "outputs": [
    {
     "name": "stdout",
     "output_type": "stream",
     "text": [
      "Max is writing code\n"
     ]
    }
   ],
   "source": [
    "se1.code()"
   ]
  },
  {
   "cell_type": "code",
   "execution_count": 122,
   "id": "db658150",
   "metadata": {},
   "outputs": [
    {
     "name": "stdout",
     "output_type": "stream",
     "text": [
      "Lisa is writing code\n"
     ]
    }
   ],
   "source": [
    "se2.code()"
   ]
  },
  {
   "cell_type": "code",
   "execution_count": 123,
   "id": "88244a07",
   "metadata": {},
   "outputs": [
    {
     "name": "stdout",
     "output_type": "stream",
     "text": [
      "Max is writing code in Python\n"
     ]
    }
   ],
   "source": [
    "se1.code_in_language(\"Python\")"
   ]
  },
  {
   "cell_type": "code",
   "execution_count": 124,
   "id": "dd2139ea",
   "metadata": {},
   "outputs": [
    {
     "name": "stdout",
     "output_type": "stream",
     "text": [
      "name = Lisa, age = 25, level = Senior\n"
     ]
    }
   ],
   "source": [
    "print(se2.information())"
   ]
  },
  {
   "cell_type": "markdown",
   "id": "2b7719d7",
   "metadata": {},
   "source": [
    "## Special Methods"
   ]
  },
  {
   "cell_type": "code",
   "execution_count": 166,
   "id": "6ce871f8",
   "metadata": {},
   "outputs": [],
   "source": [
    "class SoftwareEngineer:\n",
    "    # class attributes\n",
    "    alias_attr = \"Keyboard Manager\"\n",
    "    \n",
    "    def __init__(self, name, age, level, salary):\n",
    "        # instance attributes\n",
    "        self.name = name\n",
    "        self.age = age\n",
    "        self.level = level\n",
    "        self.salary = salary\n",
    "    def code(self):\n",
    "        print(f\"{self.name} is writing code\") \n",
    "    \n",
    "    def code_in_language(self, language):\n",
    "        print(f\"{self.name} is writing code in {language}\")\n",
    "    \n",
    "#     def information(self):\n",
    "#         information = f\"name = {self.name}, age = {self.age}, level = {self.level}\"\n",
    "#         return information\n",
    "    \n",
    "    # Special Methods\n",
    "    # dunder method\n",
    "    def __str__(self):\n",
    "        information = f\"name = {self.name}, age = {self.age}, level = {self.level}\"\n",
    "        return information        \n",
    "    \n",
    "    def __eq__(self, other):\n",
    "        return self.name == other.name and self.age == other.age \n",
    "    \n",
    "    @staticmethod\n",
    "    def entry_salary(age):\n",
    "        if age < 25:\n",
    "            return 5000\n",
    "        if age < 30:\n",
    "            return 7000\n",
    "        return 9000"
   ]
  },
  {
   "cell_type": "code",
   "execution_count": 169,
   "id": "eef1903a",
   "metadata": {},
   "outputs": [],
   "source": [
    "se1 = SoftwareEngineer(\"Max\", 20, \"Junior\", 5000)\n",
    "se2 = SoftwareEngineer(\"Max\", 20, \"Junior\", 5000)"
   ]
  },
  {
   "cell_type": "code",
   "execution_count": 158,
   "id": "74a2311f",
   "metadata": {},
   "outputs": [
    {
     "data": {
      "text/plain": [
       "<__main__.SoftwareEngineer at 0x1d32c3ced90>"
      ]
     },
     "execution_count": 158,
     "metadata": {},
     "output_type": "execute_result"
    }
   ],
   "source": [
    "se1"
   ]
  },
  {
   "cell_type": "code",
   "execution_count": 159,
   "id": "ec148ef6",
   "metadata": {},
   "outputs": [
    {
     "name": "stdout",
     "output_type": "stream",
     "text": [
      "True\n"
     ]
    }
   ],
   "source": [
    "print(se1 == se2)"
   ]
  },
  {
   "cell_type": "code",
   "execution_count": 172,
   "id": "7a80fb8b",
   "metadata": {},
   "outputs": [
    {
     "data": {
      "text/plain": [
       "5000"
      ]
     },
     "execution_count": 172,
     "metadata": {},
     "output_type": "execute_result"
    }
   ],
   "source": [
    "se1.entry_salary(24)\n"
   ]
  },
  {
   "cell_type": "code",
   "execution_count": 173,
   "id": "6caa761d",
   "metadata": {},
   "outputs": [
    {
     "data": {
      "text/plain": [
       "7000"
      ]
     },
     "execution_count": 173,
     "metadata": {},
     "output_type": "execute_result"
    }
   ],
   "source": [
    "SoftwareEngineer.entry_salary(27)"
   ]
  },
  {
   "cell_type": "markdown",
   "id": "83d4bbaf",
   "metadata": {},
   "source": [
    "## Inheritance"
   ]
  },
  {
   "cell_type": "code",
   "execution_count": 232,
   "id": "f5e8ffb5",
   "metadata": {},
   "outputs": [],
   "source": [
    "# inherits, extend, override\n",
    "class Employee:\n",
    "    def __init__(self, name, age, salary):\n",
    "        self.name = name\n",
    "        self.age = age\n",
    "        self.salary = salary\n",
    "        \n",
    "    def work(self):\n",
    "        print(f\"{self.name} is working . . .\")\n",
    "    \n",
    "class SoftwareEngineer(Employee):\n",
    "    def __init__(self, name, age, salary, level):\n",
    "        super().__init__(name, age, salary)\n",
    "        self.level = level\n",
    "   \n",
    "    def work(self):\n",
    "        print(f\"{self.name} is coding . . .\")        \n",
    "        \n",
    "    def debug(self):\n",
    "        print(f\"{self.name} is debugging\")\n",
    "        \n",
    "        \n",
    "class Designer(Employee):\n",
    "    def work(self):\n",
    "        print(f\"{self.name} is designing . . .\")    \n",
    "    def draw(self):\n",
    "        print(f\"{self.name} is drawing\")"
   ]
  },
  {
   "cell_type": "code",
   "execution_count": 233,
   "id": "75cf4ccc",
   "metadata": {},
   "outputs": [
    {
     "name": "stdout",
     "output_type": "stream",
     "text": [
      "max is coding . . .\n"
     ]
    }
   ],
   "source": [
    "se = SoftwareEngineer(\"max\", 25, 8000, \"Junior\")\n",
    "se.work()"
   ]
  },
  {
   "cell_type": "code",
   "execution_count": 234,
   "id": "68056d3e",
   "metadata": {},
   "outputs": [
    {
     "name": "stdout",
     "output_type": "stream",
     "text": [
      "max 25\n"
     ]
    }
   ],
   "source": [
    "print(se.name, se.age)"
   ]
  },
  {
   "cell_type": "code",
   "execution_count": 235,
   "id": "761e743b",
   "metadata": {},
   "outputs": [
    {
     "data": {
      "text/plain": [
       "'Junior'"
      ]
     },
     "execution_count": 235,
     "metadata": {},
     "output_type": "execute_result"
    }
   ],
   "source": [
    "se.level"
   ]
  },
  {
   "cell_type": "code",
   "execution_count": 236,
   "id": "4db11858",
   "metadata": {},
   "outputs": [
    {
     "name": "stdout",
     "output_type": "stream",
     "text": [
      "max is debugging\n"
     ]
    }
   ],
   "source": [
    "se.debug()"
   ]
  },
  {
   "cell_type": "code",
   "execution_count": 237,
   "id": "9bc8b270",
   "metadata": {},
   "outputs": [],
   "source": [
    "d = Designer(\"Phillip\", 27, 7000)"
   ]
  },
  {
   "cell_type": "code",
   "execution_count": 238,
   "id": "b05c9c6f",
   "metadata": {},
   "outputs": [
    {
     "name": "stdout",
     "output_type": "stream",
     "text": [
      "Phillip 27\n"
     ]
    }
   ],
   "source": [
    "print(d.name, d.age)"
   ]
  },
  {
   "cell_type": "code",
   "execution_count": 239,
   "id": "7fcc3571",
   "metadata": {},
   "outputs": [
    {
     "name": "stdout",
     "output_type": "stream",
     "text": [
      "Phillip is designing . . .\n"
     ]
    }
   ],
   "source": [
    "d.work()"
   ]
  },
  {
   "cell_type": "code",
   "execution_count": 224,
   "id": "f8b20590",
   "metadata": {},
   "outputs": [
    {
     "name": "stdout",
     "output_type": "stream",
     "text": [
      "Phillip is drawing\n"
     ]
    }
   ],
   "source": [
    "d.draw()"
   ]
  },
  {
   "cell_type": "markdown",
   "id": "731dd7bd",
   "metadata": {},
   "source": [
    "## Polymorphism"
   ]
  },
  {
   "cell_type": "code",
   "execution_count": 244,
   "id": "e3c1e870",
   "metadata": {},
   "outputs": [],
   "source": [
    "employees = [SoftwareEngineer(\"Max\", 25, 8000, \"Junior\"),\n",
    "            SoftwareEngineer(\"Alex\", 30, 10000, \"Senior\"),\n",
    "            Designer(\"Phillip\", 27, 7000)]"
   ]
  },
  {
   "cell_type": "code",
   "execution_count": 245,
   "id": "3dacbe25",
   "metadata": {},
   "outputs": [],
   "source": [
    "def motivate_employees(employees):\n",
    "    for e in employees:\n",
    "        e.work()"
   ]
  },
  {
   "cell_type": "code",
   "execution_count": 246,
   "id": "b3d493b6",
   "metadata": {},
   "outputs": [
    {
     "name": "stdout",
     "output_type": "stream",
     "text": [
      "Max is coding . . .\n",
      "Alex is coding . . .\n",
      "Phillip is designing . . .\n"
     ]
    }
   ],
   "source": [
    "motivate_employees(employees)"
   ]
  },
  {
   "cell_type": "markdown",
   "id": "9ba72c59",
   "metadata": {},
   "source": [
    "## Encapsulation"
   ]
  },
  {
   "cell_type": "code",
   "execution_count": 248,
   "id": "c343111e",
   "metadata": {},
   "outputs": [],
   "source": [
    "class SoftwareEngineer:\n",
    "    def __init__(self, name, age):\n",
    "        self.name = name\n",
    "        self.age = age\n",
    "        self._salary = None\n",
    "        self._num_bugs_solved = 0"
   ]
  },
  {
   "cell_type": "code",
   "execution_count": 249,
   "id": "dd708a26",
   "metadata": {},
   "outputs": [],
   "source": [
    "se = SoftwareEngineer(\"Max\", 25)"
   ]
  },
  {
   "cell_type": "code",
   "execution_count": 250,
   "id": "70e06a8c",
   "metadata": {},
   "outputs": [
    {
     "data": {
      "text/plain": [
       "'Max'"
      ]
     },
     "execution_count": 250,
     "metadata": {},
     "output_type": "execute_result"
    }
   ],
   "source": [
    "se.name"
   ]
  },
  {
   "cell_type": "code",
   "execution_count": 251,
   "id": "07a1c6f8",
   "metadata": {},
   "outputs": [
    {
     "data": {
      "text/plain": [
       "25"
      ]
     },
     "execution_count": 251,
     "metadata": {},
     "output_type": "execute_result"
    }
   ],
   "source": [
    "se.age"
   ]
  },
  {
   "cell_type": "markdown",
   "id": "b75bbfbf",
   "metadata": {},
   "source": [
    "Use \"_\" to make it private but it still can be accessed. Use \"__\" if you want to completely make it private and inaccessible"
   ]
  },
  {
   "cell_type": "code",
   "execution_count": 258,
   "id": "2c20103d",
   "metadata": {},
   "outputs": [],
   "source": [
    "class SoftwareEngineer:\n",
    "    def __init__(self, name, age):\n",
    "        self.name = name\n",
    "        self.age = age\n",
    "        self._salary = 4000\n",
    "        self._num_bugs_solved = 0"
   ]
  },
  {
   "cell_type": "code",
   "execution_count": 259,
   "id": "603739f8",
   "metadata": {},
   "outputs": [],
   "source": [
    "se = SoftwareEngineer(\"Max\", 25)"
   ]
  },
  {
   "cell_type": "code",
   "execution_count": 260,
   "id": "bb0bd807",
   "metadata": {},
   "outputs": [
    {
     "name": "stdout",
     "output_type": "stream",
     "text": [
      "4000\n"
     ]
    }
   ],
   "source": [
    "print(se._salary)"
   ]
  },
  {
   "cell_type": "code",
   "execution_count": 261,
   "id": "9ddf73e3",
   "metadata": {},
   "outputs": [],
   "source": [
    "class SoftwareEngineer:\n",
    "    def __init__(self, name, age):\n",
    "        self.name = name\n",
    "        self.age = age\n",
    "        self.__salary = 4000\n",
    "        self._num_bugs_solved = 0"
   ]
  },
  {
   "cell_type": "code",
   "execution_count": 262,
   "id": "034eb112",
   "metadata": {},
   "outputs": [],
   "source": [
    "se = SoftwareEngineer(\"Max\", 25)"
   ]
  },
  {
   "cell_type": "code",
   "execution_count": 263,
   "id": "01b18fd1",
   "metadata": {},
   "outputs": [
    {
     "ename": "AttributeError",
     "evalue": "'SoftwareEngineer' object has no attribute '__salary'",
     "output_type": "error",
     "traceback": [
      "\u001b[1;31m---------------------------------------------------------------------------\u001b[0m",
      "\u001b[1;31mAttributeError\u001b[0m                            Traceback (most recent call last)",
      "\u001b[1;32m<ipython-input-263-642563abf155>\u001b[0m in \u001b[0;36m<module>\u001b[1;34m\u001b[0m\n\u001b[1;32m----> 1\u001b[1;33m \u001b[0mprint\u001b[0m\u001b[1;33m(\u001b[0m\u001b[0mse\u001b[0m\u001b[1;33m.\u001b[0m\u001b[0m__salary\u001b[0m\u001b[1;33m)\u001b[0m\u001b[1;33m\u001b[0m\u001b[1;33m\u001b[0m\u001b[0m\n\u001b[0m",
      "\u001b[1;31mAttributeError\u001b[0m: 'SoftwareEngineer' object has no attribute '__salary'"
     ]
    }
   ],
   "source": [
    "print(se.__salary)"
   ]
  },
  {
   "cell_type": "code",
   "execution_count": 325,
   "id": "07fb3cb5",
   "metadata": {},
   "outputs": [],
   "source": [
    "class SoftwareEngineer:\n",
    "    def __init__(self, name, age):\n",
    "        self.name = name\n",
    "        self.age = age\n",
    "        self._salary = None\n",
    "        self._num_bugs_solved = 0\n",
    "        \n",
    "    def get_salary(self):\n",
    "        return self._salary\n",
    "    \n",
    "    def set_salary(self, value):\n",
    "        if value < 1000:\n",
    "            self._salary = 1000\n",
    "        if value > 20000:\n",
    "            self._salary = 20000\n",
    "        self._salary = value    \n",
    "            \n",
    "    "
   ]
  },
  {
   "cell_type": "code",
   "execution_count": 326,
   "id": "7074dcf4",
   "metadata": {},
   "outputs": [],
   "source": [
    "se = SoftwareEngineer(\"Max\", 25)"
   ]
  },
  {
   "cell_type": "code",
   "execution_count": 327,
   "id": "94bf5c2c",
   "metadata": {},
   "outputs": [
    {
     "name": "stdout",
     "output_type": "stream",
     "text": [
      "60000\n"
     ]
    }
   ],
   "source": [
    "se.set_salary(60000)\n",
    "print(se.get_salary())"
   ]
  },
  {
   "cell_type": "markdown",
   "id": "98f8e2b2",
   "metadata": {},
   "source": [
    "## Helper Function"
   ]
  },
  {
   "cell_type": "code",
   "execution_count": 342,
   "id": "3f9422a3",
   "metadata": {},
   "outputs": [],
   "source": [
    "class SoftwareEngineer:\n",
    "    def __init__(self, name, age):\n",
    "        self.name = name\n",
    "        self.age = age\n",
    "        self._salary = None\n",
    "        self._num_bugs_solved = 0\n",
    "    \n",
    "    def code(self):\n",
    "        self._num_bugs_solved +=1 \n",
    "        \n",
    "        \n",
    "        \n",
    "        \n",
    "    def get_salary(self):\n",
    "        return self._salary\n",
    "    \n",
    "    def set_salary(self, base_value):\n",
    "        self._salary =  self._calculate_salary(base_value)\n",
    "     \n",
    "    \n",
    "    def _calculate_salary(self, base_value):\n",
    "        if self._num_bugs_solved < 10:\n",
    "            return base_value\n",
    "        if self._num_bugs_solved < 100:\n",
    "            return base_value *2\n",
    "        return base_value*3\n",
    "        "
   ]
  },
  {
   "cell_type": "code",
   "execution_count": 343,
   "id": "9fcb3186",
   "metadata": {},
   "outputs": [],
   "source": [
    "se = SoftwareEngineer(\"Max\", 25)"
   ]
  },
  {
   "cell_type": "code",
   "execution_count": 344,
   "id": "48d4ee25",
   "metadata": {},
   "outputs": [],
   "source": [
    "for i in range(70):\n",
    "    se.code()"
   ]
  },
  {
   "cell_type": "code",
   "execution_count": 345,
   "id": "d7d03c77",
   "metadata": {},
   "outputs": [],
   "source": [
    "se.set_salary(6000)"
   ]
  },
  {
   "cell_type": "code",
   "execution_count": 346,
   "id": "2d611f0a",
   "metadata": {},
   "outputs": [
    {
     "data": {
      "text/plain": [
       "12000"
      ]
     },
     "execution_count": 346,
     "metadata": {},
     "output_type": "execute_result"
    }
   ],
   "source": [
    "se.get_salary()"
   ]
  },
  {
   "cell_type": "code",
   "execution_count": null,
   "id": "f41c2250",
   "metadata": {},
   "outputs": [],
   "source": []
  }
 ],
 "metadata": {
  "kernelspec": {
   "display_name": "psa",
   "language": "python",
   "name": "psa"
  },
  "language_info": {
   "codemirror_mode": {
    "name": "ipython",
    "version": 3
   },
   "file_extension": ".py",
   "mimetype": "text/x-python",
   "name": "python",
   "nbconvert_exporter": "python",
   "pygments_lexer": "ipython3",
   "version": "3.8.5"
  }
 },
 "nbformat": 4,
 "nbformat_minor": 5
}
