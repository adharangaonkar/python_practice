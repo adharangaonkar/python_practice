{
 "cells": [
  {
   "cell_type": "code",
   "execution_count": 2,
   "metadata": {},
   "outputs": [],
   "source": [
    "import pandas as pd\n",
    "import numpy as np\n",
    "\n",
    "import matplotlib.pyplot as plt\n",
    "%matplotlib inline"
   ]
  },
  {
   "cell_type": "code",
   "execution_count": 34,
   "metadata": {},
   "outputs": [
    {
     "data": {
      "text/html": [
       "<div>\n",
       "<style scoped>\n",
       "    .dataframe tbody tr th:only-of-type {\n",
       "        vertical-align: middle;\n",
       "    }\n",
       "\n",
       "    .dataframe tbody tr th {\n",
       "        vertical-align: top;\n",
       "    }\n",
       "\n",
       "    .dataframe thead th {\n",
       "        text-align: right;\n",
       "    }\n",
       "</style>\n",
       "<table border=\"1\" class=\"dataframe\">\n",
       "  <thead>\n",
       "    <tr style=\"text-align: right;\">\n",
       "      <th></th>\n",
       "      <th>loan_amnt</th>\n",
       "      <th>int_rate</th>\n",
       "      <th>annual_inc</th>\n",
       "      <th>loan_status</th>\n",
       "      <th>open_acc</th>\n",
       "      <th>open_il_12m</th>\n",
       "    </tr>\n",
       "  </thead>\n",
       "  <tbody>\n",
       "    <tr>\n",
       "      <td>0</td>\n",
       "      <td>2500</td>\n",
       "      <td>13.56</td>\n",
       "      <td>55000.0</td>\n",
       "      <td>Current</td>\n",
       "      <td>9.0</td>\n",
       "      <td>1.0</td>\n",
       "    </tr>\n",
       "    <tr>\n",
       "      <td>1</td>\n",
       "      <td>30000</td>\n",
       "      <td>18.94</td>\n",
       "      <td>90000.0</td>\n",
       "      <td>Current</td>\n",
       "      <td>13.0</td>\n",
       "      <td>2.0</td>\n",
       "    </tr>\n",
       "    <tr>\n",
       "      <td>2</td>\n",
       "      <td>5000</td>\n",
       "      <td>17.97</td>\n",
       "      <td>59280.0</td>\n",
       "      <td>Current</td>\n",
       "      <td>8.0</td>\n",
       "      <td>0.0</td>\n",
       "    </tr>\n",
       "    <tr>\n",
       "      <td>3</td>\n",
       "      <td>4000</td>\n",
       "      <td>18.94</td>\n",
       "      <td>92000.0</td>\n",
       "      <td>Current</td>\n",
       "      <td>10.0</td>\n",
       "      <td>3.0</td>\n",
       "    </tr>\n",
       "    <tr>\n",
       "      <td>4</td>\n",
       "      <td>30000</td>\n",
       "      <td>16.14</td>\n",
       "      <td>57250.0</td>\n",
       "      <td>Current</td>\n",
       "      <td>12.0</td>\n",
       "      <td>3.0</td>\n",
       "    </tr>\n",
       "  </tbody>\n",
       "</table>\n",
       "</div>"
      ],
      "text/plain": [
       "   loan_amnt  int_rate  annual_inc loan_status  open_acc  open_il_12m\n",
       "0       2500     13.56     55000.0     Current       9.0          1.0\n",
       "1      30000     18.94     90000.0     Current      13.0          2.0\n",
       "2       5000     17.97     59280.0     Current       8.0          0.0\n",
       "3       4000     18.94     92000.0     Current      10.0          3.0\n",
       "4      30000     16.14     57250.0     Current      12.0          3.0"
      ]
     },
     "execution_count": 34,
     "metadata": {},
     "output_type": "execute_result"
    }
   ],
   "source": [
    "\n",
    "# let's load the dataset with just a few columns and a few rows\n",
    "# to speed things up\n",
    "\n",
    "use_cols = [\n",
    "    'loan_amnt', 'int_rate', 'annual_inc', 'open_acc', 'loan_status',\n",
    "    'open_il_12m'\n",
    "]\n",
    "\n",
    "data = pd.read_csv('loan.csv', usecols=use_cols) # set a seed for reproducibility\n",
    "\n",
    "data.head()"
   ]
  },
  {
   "cell_type": "code",
   "execution_count": 36,
   "metadata": {},
   "outputs": [
    {
     "data": {
      "text/plain": [
       "array([ 2500, 30000,  5000, ...,   925,   550,   850], dtype=int64)"
      ]
     },
     "execution_count": 36,
     "metadata": {},
     "output_type": "execute_result"
    }
   ],
   "source": [
    "# let's look at the values of the variable loan_amnt\n",
    "# this is the amount of money requested by the borrower\n",
    "# in US dollars\n",
    "\n",
    "data.loan_amnt.unique()"
   ]
  },
  {
   "cell_type": "code",
   "execution_count": 37,
   "metadata": {},
   "outputs": [
    {
     "data": {
      "text/plain": [
       "Text(0, 0.5, 'Number of Loans')"
      ]
     },
     "execution_count": 37,
     "metadata": {},
     "output_type": "execute_result"
    },
    {
     "data": {
      "image/png": "[encoded data removed]",
      "text/plain": [
       "<Figure size 432x288 with 1 Axes>"
      ]
     },
     "metadata": {
      "needs_background": "light"
     },
     "output_type": "display_data"
    }
   ],
   "source": [
    "#plot\n",
    "fig = data.loan_amnt.hist(bins=20)\n",
    "fig.set_title('Loan Amount Requested')\n",
    "fig.set_xlabel('Loan Amount')\n",
    "fig.set_ylabel('Number of Loans')"
   ]
  },
  {
   "cell_type": "code",
   "execution_count": null,
   "metadata": {},
   "outputs": [],
   "source": []
  },
  {
   "cell_type": "code",
   "execution_count": 38,
   "metadata": {},
   "outputs": [
    {
     "data": {
      "text/plain": [
       "array([13.56, 18.94, 17.97, 16.14, 15.02, 14.47, 22.35, 11.31,  8.19,\n",
       "       12.98, 16.91, 20.89, 23.4 , 26.31, 11.8 , 19.92,  6.46, 27.27,\n",
       "       10.72, 10.33,  8.81, 30.75,  7.56, 25.34,  7.02, 24.37, 30.65,\n",
       "        6.  , 30.79, 30.84, 28.72, 11.06,  7.21, 12.73, 11.55,  8.46,\n",
       "       29.69,  6.11,  7.84,  6.67, 10.47, 30.17, 10.08, 30.94, 30.89,\n",
       "       30.99, 14.03, 13.06,  6.19, 11.05, 15.49, 21.85, 10.56,  7.46,\n",
       "        5.31, 14.52,  9.58, 18.45, 12.13,  8.08, 19.42,  6.83, 16.46,\n",
       "       10.07, 17.47, 20.39, 25.81, 26.77, 23.87, 22.9 , 24.84, 12.61,\n",
       "       14.07,  6.71,  7.96,  9.43, 10.9 , 11.98, 13.58, 16.01, 15.04,\n",
       "        7.34,  6.07, 10.41,  9.92,  7.97,  7.35, 17.09,  9.44, 20.  ,\n",
       "       18.06, 10.91, 11.99, 15.05,  6.08,  9.93, 12.62, 24.85, 23.88,\n",
       "       14.08, 10.42,  6.72, 19.03, 16.02, 21.45, 13.59,  5.32, 25.82,\n",
       "       26.3 , 22.91, 12.79, 17.99,  8.59, 21.49,  8.99, 13.99, 14.49,\n",
       "       11.49, 10.99,  6.99, 26.49, 16.99, 15.59, 24.99, 10.49, 13.49,\n",
       "       22.39,  7.59, 19.99,  9.49, 18.99,  7.99, 25.69, 23.99, 28.18,\n",
       "       27.49, 29.67, 25.29, 24.49, 29.96, 27.79, 28.88, 26.99,  6.97,\n",
       "       10.75, 12.99,  9.75,  7.39,  9.16, 20.99, 11.47,  7.89, 14.46,\n",
       "       15.31, 17.27, 16.29,  8.39,  6.49, 18.25, 13.67, 25.65, 23.32,\n",
       "       25.11, 26.14, 25.44, 27.34, 24.11, 21.97, 23.13, 21.18, 19.53,\n",
       "       25.88, 26.57, 22.45, 20.75, 28.67, 28.99, 28.34, 28.14, 15.29,\n",
       "       11.16, 16.59,  8.49, 21.48, 13.44, 10.78,  9.17, 12.88,  7.91,\n",
       "       11.48, 24.24, 18.49, 14.85,  7.49,  9.8 , 20.5 , 15.77, 19.89,\n",
       "       25.09, 19.48, 28.49, 26.06, 27.99, 13.19, 14.77,  6.89, 12.59,\n",
       "       17.57, 10.64, 16.55, 13.18,  8.38, 11.22, 15.41,  9.76, 22.99,\n",
       "       17.86, 14.48,  6.24, 25.99,  7.26, 21.99, 27.31, 18.2 , 28.69,\n",
       "        8.24, 11.39, 25.49, 11.44, 15.99, 12.74, 14.99,  7.24, 22.74,\n",
       "       26.24, 29.99, 29.49, 24.74, 30.49, 30.74, 27.88, 14.33, 12.05,\n",
       "        8.18,  9.99, 16.9 , 18.55, 11.53, 14.65, 13.33, 12.69, 19.19,\n",
       "       12.29, 15.61, 25.78, 19.52, 24.5 ,  6.39,  5.93,  6.92, 21.67,\n",
       "       20.49,  6.68, 18.84, 25.8 , 25.57, 25.89, 25.83, 16.49, 13.66,\n",
       "       12.39, 18.54,  8.67, 17.14,  6.03, 14.31, 19.24,  7.07,  6.62,\n",
       "        7.62, 16.24, 12.85, 13.53,  8.9 ,  9.67, 14.98, 19.97, 13.98,\n",
       "        7.9 , 19.22, 22.4 , 23.7 , 24.08, 17.76, 21.7 , 16.2 , 15.1 ,\n",
       "       19.2 , 14.3 , 20.2 , 17.1 , 23.1 , 21.  ,  8.6 ,  9.25, 22.2 ,\n",
       "       22.7 , 15.22, 13.68, 21.6 , 16.78, 18.85,  9.71, 17.56, 15.88,\n",
       "       13.05, 12.35, 23.5 , 20.8 , 21.15, 24.89, 20.31, 25.28, 10.16,\n",
       "       15.8 , 12.12, 19.05, 18.75, 19.72, 17.77, 14.09, 11.14, 13.11,\n",
       "       23.28, 23.76, 21.98, 23.63, 23.83, 24.7 , 22.95, 22.47, 24.83,\n",
       "       10.74, 15.81, 22.78, 23.33, 24.2 , 24.76, 24.33, 23.26, 24.52,\n",
       "       15.27,  9.91, 20.3 , 15.96, 12.42, 17.58, 11.71, 19.91, 10.65,\n",
       "       16.77, 14.27,  7.51, 21.28, 23.52, 18.64, 23.91, 22.06, 14.28,\n",
       "       12.49, 18.24,  7.69, 13.35, 10.15, 23.43, 11.67, 22.15,  7.12,\n",
       "       17.5 , 14.64, 13.65, 14.16, 19.47, 18.92, 22.11,  5.99, 18.79,\n",
       "       15.23, 14.79,  5.42, 10.59, 17.49, 15.62, 21.36, 19.29, 18.39,\n",
       "       16.89, 20.62, 22.85, 19.69, 20.25, 23.22, 21.74, 22.48, 23.59,\n",
       "       18.07, 11.63,  7.42, 19.39, 16.11, 17.54, 22.64, 13.84, 17.19,\n",
       "       12.87, 20.69, 21.82, 19.79, 22.94, 24.59, 24.4 , 14.82, 14.17,\n",
       "        7.29, 17.88, 20.11, 17.51, 13.43, 14.91, 15.28, 15.65, 11.11,\n",
       "       10.37, 16.4 ,  7.66, 10.  , 18.62,  5.79,  9.63, 14.54, 12.68,\n",
       "       19.36, 13.8 , 21.59, 20.85, 21.22, 19.74, 20.48,  6.91, 12.23,\n",
       "       10.36,  6.17,  6.54, 16.69, 15.95,  8.88,  9.62, 16.32, 14.83,\n",
       "       13.72, 20.03, 17.8 , 15.2 , 15.57, 19.66, 17.06, 18.17, 17.43,\n",
       "       20.4 , 20.77, 18.91, 21.14, 17.44, 13.23,  7.88, 11.12, 13.61,\n",
       "       10.38, 17.93, 15.58, 14.84, 15.21,  6.76, 11.86,  7.14, 14.35,\n",
       "       16.82, 14.72, 16.45, 18.67, 20.53, 19.41, 20.16, 21.27, 18.3 ,\n",
       "       19.04, 20.9 , 21.64, 10.25, 10.62, 13.48, 14.59, 16.07, 15.7 ,\n",
       "        9.88, 11.36, 15.33, 13.85, 14.96, 14.22,  7.74, 13.22, 13.57,\n",
       "       17.04, 14.61,  8.94, 12.18, 11.83, 16.35, 13.92, 14.26, 19.13,\n",
       "       12.53, 16.7 , 16.  , 17.39, 18.09,  7.4 , 18.43, 17.74,  7.05,\n",
       "       20.52, 20.86, 18.78, 21.21, 19.82, 20.17, 13.16,  8.  , 13.47,\n",
       "       12.21, 16.63,  9.32, 12.84, 11.26, 15.68, 15.37, 10.95, 11.89,\n",
       "       14.11, 13.79,  7.68, 11.58,  7.37, 16.95, 18.53, 14.74, 14.42,\n",
       "       18.21, 17.26, 17.9 , 19.16,  9.38, 12.72, 13.36, 11.46, 10.51,\n",
       "        9.07, 13.04, 11.78, 12.41, 10.83, 12.09, 17.46, 17.15, 15.25,\n",
       "       10.2 , 14.93, 18.72, 14.62,  8.32, 14.12, 10.96, 10.01, 12.86,\n",
       "       11.28, 11.59,  8.63, 12.54, 12.22, 11.91, 15.38, 16.96, 13.17,\n",
       "        9.7 , 16.33, 14.75, 15.07, 10.71, 11.34, 10.39, 13.87, 11.03,\n",
       "       11.66, 13.24,  9.45, 13.55, 11.97, 12.92, 15.45, 14.5 , 14.18,\n",
       "       15.13, 16.08, 15.76, 17.03, 17.34, 16.71,  9.83, 13.62, 10.46,\n",
       "        9.51,  9.2 , 13.3 ,  7.75, 12.36, 12.67, 11.72, 13.93,  8.07,\n",
       "        7.43, 12.04, 14.25, 14.88, 11.41, 11.09, 10.14, 16.15, 15.83,\n",
       "       18.36,  9.64,  9.96,  9.01,  9.33, 11.54, 12.17, 12.8 , 14.38,\n",
       "       13.75, 14.7 , 13.12, 10.28,  8.7 , 14.67, 15.01, 17.78, 16.83,\n",
       "       17.59, 14.43, 16.65, 17.91, 17.28, 18.86, 18.61, 17.66, 18.29,\n",
       "       18.04, 14.57, 17.72, 15.51, 17.41, 17.22, 16.28])"
      ]
     },
     "execution_count": 38,
     "metadata": {},
     "output_type": "execute_result"
    }
   ],
   "source": [
    "data.int_rate.unique()"
   ]
  },
  {
   "cell_type": "code",
   "execution_count": 39,
   "metadata": {},
   "outputs": [
    {
     "data": {
      "text/plain": [
       "Text(0, 0.5, 'Number of Loans')"
      ]
     },
     "execution_count": 39,
     "metadata": {},
     "output_type": "execute_result"
    },
    {
     "data": {
      "image/png": "[encoded data removed]",
      "text/plain": [
       "<Figure size 432x288 with 1 Axes>"
      ]
     },
     "metadata": {
      "needs_background": "light"
     },
     "output_type": "display_data"
    }
   ],
   "source": [
    "#plot\n",
    "# let's make an histogram to get familiar with the\n",
    "# distribution of the variable\n",
    "fig = data.int_rate.hist(bins=20)\n",
    "fig.set_title('Loan Amount Requested')\n",
    "fig.set_xlabel('Loan Amount')\n",
    "fig.set_ylabel('Number of Loans')"
   ]
  },
  {
   "cell_type": "markdown",
   "metadata": {},
   "source": [
    "Lets look at the discrete variables"
   ]
  },
  {
   "cell_type": "code",
   "execution_count": 40,
   "metadata": {},
   "outputs": [
    {
     "data": {
      "text/plain": [
       "array([  9.,  13.,   8.,  10.,  12.,  18.,   1.,  19.,  38.,   6.,  20.,\n",
       "        27.,   7.,   4.,  14.,  17.,   5.,  11.,   3.,  16.,  15.,  24.,\n",
       "        23.,  26.,  22.,  21.,  25.,  29.,   2.,  44.,  28.,  31.,  34.,\n",
       "        32.,  30.,  35.,  41.,  36.,  40.,  33.,  45.,  43.,  37.,  59.,\n",
       "        39.,   0.,  55.,  48.,  60.,  47.,  42.,  51.,  66.,  49.,  53.,\n",
       "        57.,  50.,  46.,  54.,  61.,  63.,  68.,  52.,  64.,  62.,  69.,\n",
       "        94.,  70.,  58.,  78.,  56.,  82., 101.,  86.,  65.,  72.,  80.,\n",
       "        77.,  81.,  71.,  74.,  97.,  67.,  79.,  90.,  76.,  93.,  91.,\n",
       "        88.,  84.,  75.])"
      ]
     },
     "execution_count": 40,
     "metadata": {},
     "output_type": "execute_result"
    }
   ],
   "source": [
    "# let's inspect the values of the variable\n",
    "\n",
    "data.open_acc.dropna().unique()"
   ]
  },
  {
   "cell_type": "code",
   "execution_count": 41,
   "metadata": {},
   "outputs": [
    {
     "data": {
      "text/plain": [
       "Text(0, 0.5, 'Number of Customers')"
      ]
     },
     "execution_count": 41,
     "metadata": {},
     "output_type": "execute_result"
    },
    {
     "data": {
      "image/png": "[encoded data removed]",
      "text/plain": [
       "<Figure size 432x288 with 1 Axes>"
      ]
     },
     "metadata": {
      "needs_background": "light"
     },
     "output_type": "display_data"
    }
   ],
   "source": [
    "\n",
    "# let's make an histogram to get familiar with the\n",
    "# distribution of the variable\n",
    "\n",
    "fig = data.open_acc.hist(bins=100)\n",
    "fig.set_xlim(0, 30)\n",
    "fig.set_title('Number of open accounts')\n",
    "fig.set_xlabel('Number of open accounts')\n",
    "fig.set_ylabel('Number of Customers')"
   ]
  },
  {
   "cell_type": "markdown",
   "metadata": {},
   "source": [
    "# A variation of discrete variables: the binary variable"
   ]
  },
  {
   "cell_type": "code",
   "execution_count": 42,
   "metadata": {},
   "outputs": [
    {
     "data": {
      "text/plain": [
       "array(['Current', 'Fully Paid', 'Late (31-120 days)', 'In Grace Period',\n",
       "       'Charged Off', 'Late (16-30 days)', 'Default',\n",
       "       'Does not meet the credit policy. Status:Fully Paid',\n",
       "       'Does not meet the credit policy. Status:Charged Off'],\n",
       "      dtype=object)"
      ]
     },
     "execution_count": 42,
     "metadata": {},
     "output_type": "execute_result"
    }
   ],
   "source": [
    "# let's inspect the values of the variable loan status\n",
    "\n",
    "data.loan_status.unique()"
   ]
  },
  {
   "cell_type": "code",
   "execution_count": 44,
   "metadata": {},
   "outputs": [
    {
     "data": {
      "text/plain": [
       "1.3712761006923617e-05"
      ]
     },
     "execution_count": 44,
     "metadata": {},
     "output_type": "execute_result"
    }
   ],
   "source": [
    "# let's create one additional variable called defaulted.\n",
    "# This variable indicates if the loan has defaulted, which means,\n",
    "# if the borrower failed to re-pay the loan, and the money\n",
    "# is deemed lost.\n",
    "\n",
    "data['defaulted'] = np.where(data.loan_status.isin(['Default']), 1, 0)\n",
    "data.defaulted.mean()"
   ]
  },
  {
   "cell_type": "code",
   "execution_count": 46,
   "metadata": {},
   "outputs": [
    {
     "data": {
      "text/html": [
       "<div>\n",
       "<style scoped>\n",
       "    .dataframe tbody tr th:only-of-type {\n",
       "        vertical-align: middle;\n",
       "    }\n",
       "\n",
       "    .dataframe tbody tr th {\n",
       "        vertical-align: top;\n",
       "    }\n",
       "\n",
       "    .dataframe thead th {\n",
       "        text-align: right;\n",
       "    }\n",
       "</style>\n",
       "<table border=\"1\" class=\"dataframe\">\n",
       "  <thead>\n",
       "    <tr style=\"text-align: right;\">\n",
       "      <th></th>\n",
       "      <th>loan_amnt</th>\n",
       "      <th>int_rate</th>\n",
       "      <th>annual_inc</th>\n",
       "      <th>loan_status</th>\n",
       "      <th>open_acc</th>\n",
       "      <th>open_il_12m</th>\n",
       "      <th>defaulted</th>\n",
       "    </tr>\n",
       "  </thead>\n",
       "  <tbody>\n",
       "    <tr>\n",
       "      <td>0</td>\n",
       "      <td>2500</td>\n",
       "      <td>13.56</td>\n",
       "      <td>55000.0</td>\n",
       "      <td>Current</td>\n",
       "      <td>9.0</td>\n",
       "      <td>1.0</td>\n",
       "      <td>0</td>\n",
       "    </tr>\n",
       "    <tr>\n",
       "      <td>1</td>\n",
       "      <td>30000</td>\n",
       "      <td>18.94</td>\n",
       "      <td>90000.0</td>\n",
       "      <td>Current</td>\n",
       "      <td>13.0</td>\n",
       "      <td>2.0</td>\n",
       "      <td>0</td>\n",
       "    </tr>\n",
       "    <tr>\n",
       "      <td>2</td>\n",
       "      <td>5000</td>\n",
       "      <td>17.97</td>\n",
       "      <td>59280.0</td>\n",
       "      <td>Current</td>\n",
       "      <td>8.0</td>\n",
       "      <td>0.0</td>\n",
       "      <td>0</td>\n",
       "    </tr>\n",
       "    <tr>\n",
       "      <td>3</td>\n",
       "      <td>4000</td>\n",
       "      <td>18.94</td>\n",
       "      <td>92000.0</td>\n",
       "      <td>Current</td>\n",
       "      <td>10.0</td>\n",
       "      <td>3.0</td>\n",
       "      <td>0</td>\n",
       "    </tr>\n",
       "    <tr>\n",
       "      <td>4</td>\n",
       "      <td>30000</td>\n",
       "      <td>16.14</td>\n",
       "      <td>57250.0</td>\n",
       "      <td>Current</td>\n",
       "      <td>12.0</td>\n",
       "      <td>3.0</td>\n",
       "      <td>0</td>\n",
       "    </tr>\n",
       "    <tr>\n",
       "      <td>...</td>\n",
       "      <td>...</td>\n",
       "      <td>...</td>\n",
       "      <td>...</td>\n",
       "      <td>...</td>\n",
       "      <td>...</td>\n",
       "      <td>...</td>\n",
       "      <td>...</td>\n",
       "    </tr>\n",
       "    <tr>\n",
       "      <td>2260663</td>\n",
       "      <td>12000</td>\n",
       "      <td>14.08</td>\n",
       "      <td>58000.0</td>\n",
       "      <td>Current</td>\n",
       "      <td>12.0</td>\n",
       "      <td>0.0</td>\n",
       "      <td>0</td>\n",
       "    </tr>\n",
       "    <tr>\n",
       "      <td>2260664</td>\n",
       "      <td>12000</td>\n",
       "      <td>25.82</td>\n",
       "      <td>30000.0</td>\n",
       "      <td>Fully Paid</td>\n",
       "      <td>10.0</td>\n",
       "      <td>1.0</td>\n",
       "      <td>0</td>\n",
       "    </tr>\n",
       "    <tr>\n",
       "      <td>2260665</td>\n",
       "      <td>10000</td>\n",
       "      <td>11.99</td>\n",
       "      <td>64000.0</td>\n",
       "      <td>Current</td>\n",
       "      <td>6.0</td>\n",
       "      <td>1.0</td>\n",
       "      <td>0</td>\n",
       "    </tr>\n",
       "    <tr>\n",
       "      <td>2260666</td>\n",
       "      <td>12000</td>\n",
       "      <td>21.45</td>\n",
       "      <td>60000.0</td>\n",
       "      <td>Current</td>\n",
       "      <td>8.0</td>\n",
       "      <td>2.0</td>\n",
       "      <td>0</td>\n",
       "    </tr>\n",
       "    <tr>\n",
       "      <td>2260667</td>\n",
       "      <td>16550</td>\n",
       "      <td>21.45</td>\n",
       "      <td>60000.0</td>\n",
       "      <td>Current</td>\n",
       "      <td>13.0</td>\n",
       "      <td>0.0</td>\n",
       "      <td>0</td>\n",
       "    </tr>\n",
       "  </tbody>\n",
       "</table>\n",
       "<p>2260668 rows × 7 columns</p>\n",
       "</div>"
      ],
      "text/plain": [
       "         loan_amnt  int_rate  annual_inc loan_status  open_acc  open_il_12m  \\\n",
       "0             2500     13.56     55000.0     Current       9.0          1.0   \n",
       "1            30000     18.94     90000.0     Current      13.0          2.0   \n",
       "2             5000     17.97     59280.0     Current       8.0          0.0   \n",
       "3             4000     18.94     92000.0     Current      10.0          3.0   \n",
       "4            30000     16.14     57250.0     Current      12.0          3.0   \n",
       "...            ...       ...         ...         ...       ...          ...   \n",
       "2260663      12000     14.08     58000.0     Current      12.0          0.0   \n",
       "2260664      12000     25.82     30000.0  Fully Paid      10.0          1.0   \n",
       "2260665      10000     11.99     64000.0     Current       6.0          1.0   \n",
       "2260666      12000     21.45     60000.0     Current       8.0          2.0   \n",
       "2260667      16550     21.45     60000.0     Current      13.0          0.0   \n",
       "\n",
       "         defaulted  \n",
       "0                0  \n",
       "1                0  \n",
       "2                0  \n",
       "3                0  \n",
       "4                0  \n",
       "...            ...  \n",
       "2260663          0  \n",
       "2260664          0  \n",
       "2260665          0  \n",
       "2260666          0  \n",
       "2260667          0  \n",
       "\n",
       "[2260668 rows x 7 columns]"
      ]
     },
     "execution_count": 46,
     "metadata": {},
     "output_type": "execute_result"
    }
   ],
   "source": [
    "data"
   ]
  },
  {
   "cell_type": "code",
   "execution_count": 47,
   "metadata": {},
   "outputs": [
    {
     "data": {
      "text/plain": [
       "array([0, 1], dtype=int64)"
      ]
     },
     "execution_count": 47,
     "metadata": {},
     "output_type": "execute_result"
    }
   ],
   "source": [
    "data.defaulted.unique()"
   ]
  },
  {
   "cell_type": "code",
   "execution_count": null,
   "metadata": {},
   "outputs": [],
   "source": []
  }
 ],
 "metadata": {
  "kernelspec": {
   "display_name": "Python 3",
   "language": "python",
   "name": "python3"
  },
  "language_info": {
   "codemirror_mode": {
    "name": "ipython",
    "version": 3
   },
   "file_extension": ".py",
   "mimetype": "text/x-python",
   "name": "python",
   "nbconvert_exporter": "python",
   "pygments_lexer": "ipython3",
   "version": "3.7.4"
  }
 },
 "nbformat": 4,
 "nbformat_minor": 2
}
